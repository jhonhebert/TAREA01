{
 "cells": [
  {
   "cell_type": "code",
   "execution_count": 1,
   "id": "b0cd36ea-4eeb-46c2-9cc5-9490eaad57cf",
   "metadata": {},
   "outputs": [
    {
     "name": "stdout",
     "output_type": "stream",
     "text": [
      "18\n"
     ]
    }
   ],
   "source": [
    "#Calcular el tamaño de la cadena \"Esta es una cadena\" sin usar la función len\n",
    "cadena = \"Esta es una cadena\"\n",
    "size=0\n",
    "lista = list(cadena)\n",
    "for value in cadena:\n",
    "  # incrementar la variable en cada bucle\n",
    "  size = size + 1\n",
    "print(size)"
   ]
  },
  {
   "cell_type": "code",
   "execution_count": 2,
   "id": "f042c075-69ec-414f-b05a-f1dea1fc6ccc",
   "metadata": {},
   "outputs": [
    {
     "name": "stdout",
     "output_type": "stream",
     "text": [
      "El numero de caracteres de 'trabajando.pe' es:  13\n"
     ]
    }
   ],
   "source": [
    "#Contar el número de caracteres en la cadena trabajando.pe.\n",
    "print(\"El numero de caracteres de 'trabajando.pe' es: \",len(\"trabajando.pe\"))"
   ]
  },
  {
   "cell_type": "code",
   "execution_count": 3,
   "id": "4a5d027f-441c-4e1b-a32a-30e68adca3d8",
   "metadata": {},
   "outputs": [
    {
     "name": "stdout",
     "output_type": "stream",
     "text": [
      "['a', 'b', 'c']\n"
     ]
    }
   ],
   "source": [
    "#Eliminar duplicados de la lista ['a', 'b', 'c', 'a', 'c', 'c'].\n",
    "lista = ['a', 'b', 'c', 'a', 'c', 'c']\n",
    "\n",
    "lista_unicos = []\n",
    "for i in lista:\n",
    "    if i not in lista_unicos:\n",
    "        lista_unicos.append(i)\n",
    "print(lista_unicos)"
   ]
  },
  {
   "cell_type": "code",
   "execution_count": 4,
   "id": "737159a9-e2d5-459b-97b2-8d9781befa3b",
   "metadata": {},
   "outputs": [],
   "source": [
    "#Escribir una función para determinar si un número es primo o no.\n",
    "def primo(num):\n",
    "    for n in range(2, num):\n",
    "        if num % n == 0:\n",
    "            print(\"No es primo,\", n, \"es divisor\")\n",
    "            return False\n",
    "    print(\"Es primo:\",num)\n",
    "    return True"
   ]
  },
  {
   "cell_type": "code",
   "execution_count": 5,
   "id": "4ce3a61d-fa76-47bc-9455-d0e04a59e4da",
   "metadata": {},
   "outputs": [],
   "source": [
    "##REPOSITORIO\n",
    "#https://github.com/jhonhebert/TAREA01"
   ]
  }
 ],
 "metadata": {
  "kernelspec": {
   "display_name": "Python 3 (ipykernel)",
   "language": "python",
   "name": "python3"
  },
  "language_info": {
   "codemirror_mode": {
    "name": "ipython",
    "version": 3
   },
   "file_extension": ".py",
   "mimetype": "text/x-python",
   "name": "python",
   "nbconvert_exporter": "python",
   "pygments_lexer": "ipython3",
   "version": "3.12.2"
  }
 },
 "nbformat": 4,
 "nbformat_minor": 5
}
